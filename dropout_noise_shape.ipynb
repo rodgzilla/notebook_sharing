{
  "nbformat": 4,
  "nbformat_minor": 0,
  "metadata": {
    "colab": {
      "name": "dropout_noise_shape.ipynb",
      "version": "0.3.2",
      "provenance": [],
      "include_colab_link": true
    },
    "kernelspec": {
      "name": "python3",
      "display_name": "Python 3"
    }
  },
  "cells": [
    {
      "cell_type": "markdown",
      "metadata": {
        "id": "view-in-github",
        "colab_type": "text"
      },
      "source": [
        "[View in Colaboratory](https://colab.research.google.com/github/rodgzilla/notebook_sharing/blob/master/dropout_noise_shape.ipynb)"
      ]
    },
    {
      "metadata": {
        "id": "aMaby174bRSI",
        "colab_type": "code",
        "colab": {}
      },
      "cell_type": "code",
      "source": [
        "import tensorflow as tf\n",
        "import numpy as np\n",
        "import tensorflow.contrib.eager as tfe\n",
        "tfe.enable_eager_execution()"
      ],
      "execution_count": 0,
      "outputs": []
    },
    {
      "metadata": {
        "id": "Kh2EHY67iC0b",
        "colab_type": "code",
        "colab": {}
      },
      "cell_type": "code",
      "source": [
        "tensor_shape = (3, 2, 4)\n",
        "keep_rate = 0.8"
      ],
      "execution_count": 0,
      "outputs": []
    },
    {
      "metadata": {
        "id": "wRFIC_8MdTB6",
        "colab_type": "code",
        "colab": {
          "base_uri": "https://localhost:8080/",
          "height": 179
        },
        "outputId": "40edb5c8-15c2-467c-f311-065d61fb0689"
      },
      "cell_type": "code",
      "source": [
        "tensor = tf.convert_to_tensor(np.random.randn(*tensor_shape))\n",
        "tensor"
      ],
      "execution_count": 0,
      "outputs": [
        {
          "output_type": "execute_result",
          "data": {
            "text/plain": [
              "<tf.Tensor: id=1, shape=(3, 2, 4), dtype=float64, numpy=\n",
              "array([[[ 1.42035596,  1.66541823, -0.20575664,  0.17418224],\n",
              "        [-2.42670931, -0.64577029,  0.96537531,  0.09581659]],\n",
              "\n",
              "       [[-1.02561263,  0.29393466, -0.09881811, -0.91015902],\n",
              "        [-0.04531573,  0.94318948, -0.79369668, -0.18290456]],\n",
              "\n",
              "       [[ 0.07300701,  0.21344522, -1.21499859, -0.7039356 ],\n",
              "        [-2.00403841, -0.16495453, -1.25145647, -0.34425731]]])>"
            ]
          },
          "metadata": {
            "tags": []
          },
          "execution_count": 3
        }
      ]
    },
    {
      "metadata": {
        "id": "2GDPMRK-dmzy",
        "colab_type": "code",
        "colab": {
          "base_uri": "https://localhost:8080/",
          "height": 35
        },
        "outputId": "48356bd9-d80a-4647-cb51-ba8f853cbec6"
      },
      "cell_type": "code",
      "source": [
        "shape = [dim.value for dim in tensor.shape]\n",
        "shape"
      ],
      "execution_count": 0,
      "outputs": [
        {
          "output_type": "execute_result",
          "data": {
            "text/plain": [
              "[3, 2, 4]"
            ]
          },
          "metadata": {
            "tags": []
          },
          "execution_count": 4
        }
      ]
    },
    {
      "metadata": {
        "id": "usHNZaB5eOkf",
        "colab_type": "code",
        "colab": {
          "base_uri": "https://localhost:8080/",
          "height": 197
        },
        "outputId": "193d7481-c980-47e4-c7b2-e60de1370bb7"
      },
      "cell_type": "code",
      "source": [
        "dropout_shape = shape[:]\n",
        "dropout_shape[1] = 1\n",
        "print(dropout_shape)\n",
        "dropout_result = tf.nn.dropout(tensor, keep_rate, dropout_shape)\n",
        "dropout_result"
      ],
      "execution_count": 0,
      "outputs": [
        {
          "output_type": "stream",
          "text": [
            "[3, 1, 4]\n"
          ],
          "name": "stdout"
        },
        {
          "output_type": "execute_result",
          "data": {
            "text/plain": [
              "<tf.Tensor: id=14, shape=(3, 2, 4), dtype=float64, numpy=\n",
              "array([[[ 0.        ,  2.08177279, -0.        ,  0.2177278 ],\n",
              "        [-0.        , -0.80721287,  0.        ,  0.11977074]],\n",
              "\n",
              "       [[-0.        ,  0.36741832, -0.12352263, -1.13769877],\n",
              "        [-0.        ,  1.17898685, -0.99212085, -0.2286307 ]],\n",
              "\n",
              "       [[ 0.09125876,  0.        , -1.51874824, -0.8799195 ],\n",
              "        [-2.50504802, -0.        , -1.56432058, -0.43032164]]])>"
            ]
          },
          "metadata": {
            "tags": []
          },
          "execution_count": 5
        }
      ]
    },
    {
      "metadata": {
        "id": "MwsfI-pYfRcg",
        "colab_type": "code",
        "colab": {
          "base_uri": "https://localhost:8080/",
          "height": 197
        },
        "outputId": "92178d1c-7301-41fd-ebf5-b4335118bf6f"
      },
      "cell_type": "code",
      "source": [
        "dropout_shape = shape[:]\n",
        "dropout_shape[1] = dropout_shape[2] = 1\n",
        "print(dropout_shape)\n",
        "dropout_result = tf.nn.dropout(tensor, keep_rate, dropout_shape)\n",
        "dropout_result"
      ],
      "execution_count": 0,
      "outputs": [
        {
          "output_type": "stream",
          "text": [
            "[3, 1, 1]\n"
          ],
          "name": "stdout"
        },
        {
          "output_type": "execute_result",
          "data": {
            "text/plain": [
              "<tf.Tensor: id=24, shape=(3, 2, 4), dtype=float64, numpy=\n",
              "array([[[ 1.77544495,  2.08177279, -0.2571958 ,  0.2177278 ],\n",
              "        [-3.03338664, -0.80721287,  1.20671914,  0.11977074]],\n",
              "\n",
              "       [[-0.        ,  0.        , -0.        , -0.        ],\n",
              "        [-0.        ,  0.        , -0.        , -0.        ]],\n",
              "\n",
              "       [[ 0.09125876,  0.26680652, -1.51874824, -0.8799195 ],\n",
              "        [-2.50504802, -0.20619317, -1.56432058, -0.43032164]]])>"
            ]
          },
          "metadata": {
            "tags": []
          },
          "execution_count": 6
        }
      ]
    }
  ]
}